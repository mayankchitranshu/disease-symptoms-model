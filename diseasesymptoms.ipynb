{
 "cells": [
  {
   "cell_type": "code",
   "execution_count": 68,
   "id": "d894dbe2-e156-466e-883b-86e33a6254d4",
   "metadata": {},
   "outputs": [
    {
     "name": "stdout",
     "output_type": "stream",
     "text": [
      "Requirement already satisfied: torch in /usr/local/lib/python3.10/dist-packages (2.3.0)\n",
      "Requirement already satisfied: torchtext in /usr/local/lib/python3.10/dist-packages (0.18.0)\n",
      "Requirement already satisfied: transformers in /usr/local/lib/python3.10/dist-packages (4.41.2)\n",
      "Requirement already satisfied: sentencepiece in /usr/local/lib/python3.10/dist-packages (0.2.0)\n",
      "Requirement already satisfied: pandas in /usr/local/lib/python3.10/dist-packages (2.2.2)\n",
      "Requirement already satisfied: tqdm in /usr/local/lib/python3.10/dist-packages (4.66.4)\n",
      "Requirement already satisfied: datasets in /usr/local/lib/python3.10/dist-packages (2.19.1)\n",
      "Requirement already satisfied: filelock in /usr/local/lib/python3.10/dist-packages (from torch) (3.9.0)\n",
      "Requirement already satisfied: typing-extensions>=4.8.0 in /usr/local/lib/python3.10/dist-packages (from torch) (4.12.0)\n",
      "Requirement already satisfied: sympy in /usr/local/lib/python3.10/dist-packages (from torch) (1.12)\n",
      "Requirement already satisfied: networkx in /usr/local/lib/python3.10/dist-packages (from torch) (3.0)\n",
      "Requirement already satisfied: jinja2 in /usr/local/lib/python3.10/dist-packages (from torch) (3.1.2)\n",
      "Requirement already satisfied: fsspec in /usr/local/lib/python3.10/dist-packages (from torch) (2024.3.1)\n",
      "Requirement already satisfied: nvidia-cuda-nvrtc-cu12==12.1.105 in /usr/local/lib/python3.10/dist-packages (from torch) (12.1.105)\n",
      "Requirement already satisfied: nvidia-cuda-runtime-cu12==12.1.105 in /usr/local/lib/python3.10/dist-packages (from torch) (12.1.105)\n",
      "Requirement already satisfied: nvidia-cuda-cupti-cu12==12.1.105 in /usr/local/lib/python3.10/dist-packages (from torch) (12.1.105)\n",
      "Requirement already satisfied: nvidia-cudnn-cu12==8.9.2.26 in /usr/local/lib/python3.10/dist-packages (from torch) (8.9.2.26)\n",
      "Requirement already satisfied: nvidia-cublas-cu12==12.1.3.1 in /usr/local/lib/python3.10/dist-packages (from torch) (12.1.3.1)\n",
      "Requirement already satisfied: nvidia-cufft-cu12==11.0.2.54 in /usr/local/lib/python3.10/dist-packages (from torch) (11.0.2.54)\n",
      "Requirement already satisfied: nvidia-curand-cu12==10.3.2.106 in /usr/local/lib/python3.10/dist-packages (from torch) (10.3.2.106)\n",
      "Requirement already satisfied: nvidia-cusolver-cu12==11.4.5.107 in /usr/local/lib/python3.10/dist-packages (from torch) (11.4.5.107)\n",
      "Requirement already satisfied: nvidia-cusparse-cu12==12.1.0.106 in /usr/local/lib/python3.10/dist-packages (from torch) (12.1.0.106)\n",
      "Requirement already satisfied: nvidia-nccl-cu12==2.20.5 in /usr/local/lib/python3.10/dist-packages (from torch) (2.20.5)\n",
      "Requirement already satisfied: nvidia-nvtx-cu12==12.1.105 in /usr/local/lib/python3.10/dist-packages (from torch) (12.1.105)\n",
      "Requirement already satisfied: triton==2.3.0 in /usr/local/lib/python3.10/dist-packages (from torch) (2.3.0)\n",
      "Requirement already satisfied: nvidia-nvjitlink-cu12 in /usr/local/lib/python3.10/dist-packages (from nvidia-cusolver-cu12==11.4.5.107->torch) (12.5.40)\n",
      "Requirement already satisfied: requests in /usr/local/lib/python3.10/dist-packages (from torchtext) (2.31.0)\n",
      "Requirement already satisfied: numpy in /usr/local/lib/python3.10/dist-packages (from torchtext) (1.24.1)\n",
      "Requirement already satisfied: huggingface-hub<1.0,>=0.23.0 in /usr/local/lib/python3.10/dist-packages (from transformers) (0.23.2)\n",
      "Requirement already satisfied: packaging>=20.0 in /usr/local/lib/python3.10/dist-packages (from transformers) (23.2)\n",
      "Requirement already satisfied: pyyaml>=5.1 in /usr/local/lib/python3.10/dist-packages (from transformers) (6.0.1)\n",
      "Requirement already satisfied: regex!=2019.12.17 in /usr/local/lib/python3.10/dist-packages (from transformers) (2024.5.15)\n",
      "Requirement already satisfied: tokenizers<0.20,>=0.19 in /usr/local/lib/python3.10/dist-packages (from transformers) (0.19.1)\n",
      "Requirement already satisfied: safetensors>=0.4.1 in /usr/local/lib/python3.10/dist-packages (from transformers) (0.4.3)\n",
      "Requirement already satisfied: python-dateutil>=2.8.2 in /usr/local/lib/python3.10/dist-packages (from pandas) (2.8.2)\n",
      "Requirement already satisfied: pytz>=2020.1 in /usr/local/lib/python3.10/dist-packages (from pandas) (2024.1)\n",
      "Requirement already satisfied: tzdata>=2022.7 in /usr/local/lib/python3.10/dist-packages (from pandas) (2024.1)\n",
      "Requirement already satisfied: pyarrow>=12.0.0 in /usr/local/lib/python3.10/dist-packages (from datasets) (16.1.0)\n",
      "Requirement already satisfied: pyarrow-hotfix in /usr/local/lib/python3.10/dist-packages (from datasets) (0.6)\n",
      "Requirement already satisfied: dill<0.3.9,>=0.3.0 in /usr/local/lib/python3.10/dist-packages (from datasets) (0.3.8)\n",
      "Requirement already satisfied: xxhash in /usr/local/lib/python3.10/dist-packages (from datasets) (3.4.1)\n",
      "Requirement already satisfied: multiprocess in /usr/local/lib/python3.10/dist-packages (from datasets) (0.70.16)\n",
      "Requirement already satisfied: aiohttp in /usr/local/lib/python3.10/dist-packages (from datasets) (3.9.5)\n",
      "Requirement already satisfied: aiosignal>=1.1.2 in /usr/local/lib/python3.10/dist-packages (from aiohttp->datasets) (1.3.1)\n",
      "Requirement already satisfied: attrs>=17.3.0 in /usr/local/lib/python3.10/dist-packages (from aiohttp->datasets) (23.1.0)\n",
      "Requirement already satisfied: frozenlist>=1.1.1 in /usr/local/lib/python3.10/dist-packages (from aiohttp->datasets) (1.4.1)\n",
      "Requirement already satisfied: multidict<7.0,>=4.5 in /usr/local/lib/python3.10/dist-packages (from aiohttp->datasets) (6.0.5)\n",
      "Requirement already satisfied: yarl<2.0,>=1.0 in /usr/local/lib/python3.10/dist-packages (from aiohttp->datasets) (1.9.4)\n",
      "Requirement already satisfied: async-timeout<5.0,>=4.0 in /usr/local/lib/python3.10/dist-packages (from aiohttp->datasets) (4.0.3)\n",
      "Requirement already satisfied: six>=1.5 in /usr/lib/python3/dist-packages (from python-dateutil>=2.8.2->pandas) (1.16.0)\n",
      "Requirement already satisfied: charset-normalizer<4,>=2 in /usr/local/lib/python3.10/dist-packages (from requests->torchtext) (2.1.1)\n",
      "Requirement already satisfied: idna<4,>=2.5 in /usr/local/lib/python3.10/dist-packages (from requests->torchtext) (3.4)\n",
      "Requirement already satisfied: urllib3<3,>=1.21.1 in /usr/local/lib/python3.10/dist-packages (from requests->torchtext) (1.26.13)\n",
      "Requirement already satisfied: certifi>=2017.4.17 in /usr/local/lib/python3.10/dist-packages (from requests->torchtext) (2022.12.7)\n",
      "Requirement already satisfied: MarkupSafe>=2.0 in /usr/local/lib/python3.10/dist-packages (from jinja2->torch) (2.1.2)\n",
      "Requirement already satisfied: mpmath>=0.19 in /usr/local/lib/python3.10/dist-packages (from sympy->torch) (1.3.0)\n",
      "\u001b[33mWARNING: Running pip as the 'root' user can result in broken permissions and conflicting behaviour with the system package manager. It is recommended to use a virtual environment instead: https://pip.pypa.io/warnings/venv\u001b[0m\u001b[33m\n",
      "\u001b[0m\n",
      "\u001b[1m[\u001b[0m\u001b[34;49mnotice\u001b[0m\u001b[1;39;49m]\u001b[0m\u001b[39;49m A new release of pip is available: \u001b[0m\u001b[31;49m23.3.1\u001b[0m\u001b[39;49m -> \u001b[0m\u001b[32;49m24.0\u001b[0m\n",
      "\u001b[1m[\u001b[0m\u001b[34;49mnotice\u001b[0m\u001b[1;39;49m]\u001b[0m\u001b[39;49m To update, run: \u001b[0m\u001b[32;49mpython -m pip install --upgrade pip\u001b[0m\n"
     ]
    }
   ],
   "source": [
    "!pip install torch torchtext transformers sentencepiece pandas tqdm datasets"
   ]
  },
  {
   "cell_type": "code",
   "execution_count": 69,
   "id": "3f9c2b4a-f3d8-4eff-abb6-44bc312fc8cf",
   "metadata": {},
   "outputs": [],
   "source": [
    "from datasets import load_dataset,DatasetDict,Dataset\n",
    "import pandas as pd\n",
    "import ast\n",
    "import datasets\n",
    "from tqdm import tqdm\n",
    "import time"
   ]
  },
  {
   "cell_type": "code",
   "execution_count": 70,
   "id": "224accbe-bf2b-4a55-80a5-3064939c40ab",
   "metadata": {},
   "outputs": [
    {
     "name": "stderr",
     "output_type": "stream",
     "text": [
      "Repo card metadata block was not found. Setting CardData to empty.\n"
     ]
    }
   ],
   "source": [
    "data_sample=load_dataset(\"QuyenAnhDE/Diseases_Symptoms\")"
   ]
  },
  {
   "cell_type": "code",
   "execution_count": 71,
   "id": "c18bc230-bea8-44ec-96b9-26f4aef5ec8c",
   "metadata": {},
   "outputs": [
    {
     "data": {
      "text/plain": [
       "DatasetDict({\n",
       "    train: Dataset({\n",
       "        features: ['Code', 'Name', 'Symptoms', 'Treatments'],\n",
       "        num_rows: 400\n",
       "    })\n",
       "})"
      ]
     },
     "execution_count": 71,
     "metadata": {},
     "output_type": "execute_result"
    }
   ],
   "source": [
    "data_sample"
   ]
  },
  {
   "cell_type": "code",
   "execution_count": 72,
   "id": "88f02ad9-df6e-4237-8aa8-4bc99c6bbbc4",
   "metadata": {},
   "outputs": [],
   "source": [
    "updated_data=[{'Names':item['Name'],'Symptoms':item['Symptoms']} for item in data_sample['train']]"
   ]
  },
  {
   "cell_type": "code",
   "execution_count": 73,
   "id": "47cc85d1-4ed9-4dde-9e02-9047fa35860c",
   "metadata": {},
   "outputs": [],
   "source": [
    "df=pd.DataFrame(updated_data)"
   ]
  },
  {
   "cell_type": "code",
   "execution_count": 74,
   "id": "e5e9f25c-c7a4-4cb4-8daa-b70f904b26d1",
   "metadata": {},
   "outputs": [],
   "source": [
    "df['Symptoms']=df['Symptoms'].apply(lambda x:','.join(x.split(',')))"
   ]
  },
  {
   "cell_type": "code",
   "execution_count": 75,
   "id": "17f2692b-4859-4c53-a7e3-55baa2c4e89b",
   "metadata": {},
   "outputs": [
    {
     "data": {
      "text/html": [
       "<div>\n",
       "<style scoped>\n",
       "    .dataframe tbody tr th:only-of-type {\n",
       "        vertical-align: middle;\n",
       "    }\n",
       "\n",
       "    .dataframe tbody tr th {\n",
       "        vertical-align: top;\n",
       "    }\n",
       "\n",
       "    .dataframe thead th {\n",
       "        text-align: right;\n",
       "    }\n",
       "</style>\n",
       "<table border=\"1\" class=\"dataframe\">\n",
       "  <thead>\n",
       "    <tr style=\"text-align: right;\">\n",
       "      <th></th>\n",
       "      <th>Names</th>\n",
       "      <th>Symptoms</th>\n",
       "    </tr>\n",
       "  </thead>\n",
       "  <tbody>\n",
       "    <tr>\n",
       "      <th>0</th>\n",
       "      <td>Panic disorder</td>\n",
       "      <td>Palpitations, Sweating, Trembling, Shortness o...</td>\n",
       "    </tr>\n",
       "    <tr>\n",
       "      <th>1</th>\n",
       "      <td>Vocal cord polyp</td>\n",
       "      <td>Hoarseness, Vocal Changes, Vocal Fatigue</td>\n",
       "    </tr>\n",
       "    <tr>\n",
       "      <th>2</th>\n",
       "      <td>Turner syndrome</td>\n",
       "      <td>Short stature, Gonadal dysgenesis, Webbed neck...</td>\n",
       "    </tr>\n",
       "    <tr>\n",
       "      <th>3</th>\n",
       "      <td>Cryptorchidism</td>\n",
       "      <td>Absence or undescended testicle(s), empty scro...</td>\n",
       "    </tr>\n",
       "    <tr>\n",
       "      <th>4</th>\n",
       "      <td>Ethylene glycol poisoning-1</td>\n",
       "      <td>Nausea, vomiting, abdominal pain, General mala...</td>\n",
       "    </tr>\n",
       "  </tbody>\n",
       "</table>\n",
       "</div>"
      ],
      "text/plain": [
       "                         Names  \\\n",
       "0               Panic disorder   \n",
       "1             Vocal cord polyp   \n",
       "2              Turner syndrome   \n",
       "3               Cryptorchidism   \n",
       "4  Ethylene glycol poisoning-1   \n",
       "\n",
       "                                            Symptoms  \n",
       "0  Palpitations, Sweating, Trembling, Shortness o...  \n",
       "1           Hoarseness, Vocal Changes, Vocal Fatigue  \n",
       "2  Short stature, Gonadal dysgenesis, Webbed neck...  \n",
       "3  Absence or undescended testicle(s), empty scro...  \n",
       "4  Nausea, vomiting, abdominal pain, General mala...  "
      ]
     },
     "execution_count": 75,
     "metadata": {},
     "output_type": "execute_result"
    }
   ],
   "source": [
    "df.head(5)"
   ]
  },
  {
   "cell_type": "code",
   "execution_count": 76,
   "id": "6b25a580-31e8-4e0d-8e26-a10e992ce084",
   "metadata": {},
   "outputs": [],
   "source": [
    "from transformers import GPT2Tokenizer,GPT2LMHeadModel\n",
    "import torch\n",
    "import torch.nn as nn\n",
    "import torch.optim as optim\n",
    "from torch.utils.data import DataLoader,Dataset,random_split"
   ]
  },
  {
   "cell_type": "code",
   "execution_count": 78,
   "id": "cdc457a8-59e9-461d-b3fa-0d6ce46b1bcc",
   "metadata": {},
   "outputs": [],
   "source": [
    "if torch.cuda.is_available():\n",
    "  device=torch.device('cuda')\n",
    "\n",
    "else:\n",
    "  try:\n",
    "    device=torch.device('mps')\n",
    "  except Exception:\n",
    "    device=torch.device('cpu')"
   ]
  },
  {
   "cell_type": "code",
   "execution_count": 79,
   "id": "e8833eec-e4ac-4566-a12f-191d72c07444",
   "metadata": {},
   "outputs": [
    {
     "data": {
      "text/plain": [
       "device(type='cuda')"
      ]
     },
     "execution_count": 79,
     "metadata": {},
     "output_type": "execute_result"
    }
   ],
   "source": [
    "device\n"
   ]
  },
  {
   "cell_type": "code",
   "execution_count": 80,
   "id": "36cfc7d0-f2ef-4236-8f3f-c3ac8e33744b",
   "metadata": {},
   "outputs": [
    {
     "data": {
      "text/plain": [
       "True"
      ]
     },
     "execution_count": 80,
     "metadata": {},
     "output_type": "execute_result"
    }
   ],
   "source": [
    "torch.cuda.is_available()"
   ]
  },
  {
   "cell_type": "code",
   "execution_count": 81,
   "id": "877fe6f8-3e66-4f3a-b5c2-6f1e90a7e27d",
   "metadata": {},
   "outputs": [],
   "source": [
    "tokenizer=GPT2Tokenizer.from_pretrained('distilgpt2')\n",
    "model=GPT2LMHeadModel.from_pretrained('distilgpt2').to(device)"
   ]
  },
  {
   "cell_type": "code",
   "execution_count": 82,
   "id": "32636fbe-dddc-4110-94d7-319d0365d9ce",
   "metadata": {},
   "outputs": [],
   "source": [
    "BATCH_SIZE=8"
   ]
  },
  {
   "cell_type": "code",
   "execution_count": 83,
   "id": "d2bf6fea-b2bb-4608-b2ad-c758b5de8924",
   "metadata": {},
   "outputs": [
    {
     "data": {
      "text/html": [
       "<div>\n",
       "<style scoped>\n",
       "    .dataframe tbody tr th:only-of-type {\n",
       "        vertical-align: middle;\n",
       "    }\n",
       "\n",
       "    .dataframe tbody tr th {\n",
       "        vertical-align: top;\n",
       "    }\n",
       "\n",
       "    .dataframe thead th {\n",
       "        text-align: right;\n",
       "    }\n",
       "</style>\n",
       "<table border=\"1\" class=\"dataframe\">\n",
       "  <thead>\n",
       "    <tr style=\"text-align: right;\">\n",
       "      <th></th>\n",
       "      <th>Names</th>\n",
       "      <th>Symptoms</th>\n",
       "    </tr>\n",
       "  </thead>\n",
       "  <tbody>\n",
       "    <tr>\n",
       "      <th>count</th>\n",
       "      <td>400</td>\n",
       "      <td>400</td>\n",
       "    </tr>\n",
       "    <tr>\n",
       "      <th>unique</th>\n",
       "      <td>392</td>\n",
       "      <td>395</td>\n",
       "    </tr>\n",
       "    <tr>\n",
       "      <th>top</th>\n",
       "      <td>Sciatica</td>\n",
       "      <td>Swelling, pain, dry mouth, bad taste</td>\n",
       "    </tr>\n",
       "    <tr>\n",
       "      <th>freq</th>\n",
       "      <td>3</td>\n",
       "      <td>3</td>\n",
       "    </tr>\n",
       "  </tbody>\n",
       "</table>\n",
       "</div>"
      ],
      "text/plain": [
       "           Names                              Symptoms\n",
       "count        400                                   400\n",
       "unique       392                                   395\n",
       "top     Sciatica  Swelling, pain, dry mouth, bad taste\n",
       "freq           3                                     3"
      ]
     },
     "execution_count": 83,
     "metadata": {},
     "output_type": "execute_result"
    }
   ],
   "source": [
    "df.describe()"
   ]
  },
  {
   "cell_type": "code",
   "execution_count": 84,
   "id": "a90c1e2e-0b78-4e21-bc15-154fee724405",
   "metadata": {},
   "outputs": [],
   "source": [
    "class LanguageDataset(Dataset):\n",
    "  def __init__(self,df,tokenizer):\n",
    "    self.labels=df.columns\n",
    "    self.data=df.to_dict(orient='records')\n",
    "    self.tokenizer=tokenizer\n",
    "    x=self.fittest_max_length(df)\n",
    "    self.max_length=x\n",
    "\n",
    "  def __len__(self):\n",
    "    return len(self.data)\n",
    "\n",
    "  def __getitem__(self,idx):\n",
    "    x=self.data[idx][self.labels[0]]\n",
    "    y=self.data[idx][self.labels[1]]\n",
    "    text=f\"{x} | {y}\"\n",
    "    tokens=self.tokenizer.encode_plus(text,return_tensors='pt',max_length=128,padding='max_length',truncation=True)\n",
    "    return tokens\n",
    "\n",
    "  def fittest_max_length(self,df):\n",
    "\n",
    "    max_length=max(len(max(df[self.labels[0]],key=len)),len(max(df[self.labels[1]],key=len)))\n",
    "    x=2\n",
    "    while x < max_length: x=x*2\n",
    "    return x"
   ]
  },
  {
   "cell_type": "code",
   "execution_count": 85,
   "id": "9c96efc2-b6e9-478b-9221-5f08374aa135",
   "metadata": {},
   "outputs": [],
   "source": [
    "data_sample=LanguageDataset(df,tokenizer)"
   ]
  },
  {
   "cell_type": "code",
   "execution_count": 86,
   "id": "f09a546f-91b0-4cf0-95e1-26ff634d5422",
   "metadata": {},
   "outputs": [
    {
     "data": {
      "text/plain": [
       "<__main__.LanguageDataset at 0x7f10e8d55e10>"
      ]
     },
     "execution_count": 86,
     "metadata": {},
     "output_type": "execute_result"
    }
   ],
   "source": [
    "data_sample"
   ]
  },
  {
   "cell_type": "code",
   "execution_count": 87,
   "id": "50f310c1-8ad2-42f0-952e-a0902c9e4765",
   "metadata": {},
   "outputs": [],
   "source": [
    "train_size=int(0.8*len(data_sample))\n",
    "val_size=len(data_sample)-train_size\n",
    "\n",
    "train_data,val_data=random_split(data_sample,[train_size,val_size])"
   ]
  },
  {
   "cell_type": "code",
   "execution_count": 88,
   "id": "75d3df30-5eb7-461e-b7e0-0faafcbfac88",
   "metadata": {},
   "outputs": [],
   "source": [
    "train_loader=DataLoader(train_data,batch_size=BATCH_SIZE,shuffle=True)\n",
    "val_loader=DataLoader(val_data,batch_size=BATCH_SIZE)"
   ]
  },
  {
   "cell_type": "code",
   "execution_count": 89,
   "id": "523aa896-61b7-42b3-bdc3-9f447c5e3ee9",
   "metadata": {},
   "outputs": [],
   "source": [
    "num_epochs=3"
   ]
  },
  {
   "cell_type": "code",
   "execution_count": 90,
   "id": "235cc53b-4cfe-4fce-8cab-5fce34002d07",
   "metadata": {},
   "outputs": [],
   "source": [
    "batch_size=BATCH_SIZE\n",
    "model_name='distilgpt2'\n",
    "gpu=0"
   ]
  },
  {
   "cell_type": "code",
   "execution_count": 91,
   "id": "4affcf69-9f61-42b5-bfa4-db2b6f6b56d7",
   "metadata": {},
   "outputs": [],
   "source": [
    "criterion=nn.CrossEntropyLoss(ignore_index=tokenizer.pad_token_id)\n",
    "optimizer=optim.Adam(model.parameters(),lr=5e-4)\n",
    "tokenizer.pad_token=tokenizer.eos_token"
   ]
  },
  {
   "cell_type": "code",
   "execution_count": 92,
   "id": "1af5f2a7-7ccb-4663-8952-26fd6739e0ea",
   "metadata": {},
   "outputs": [],
   "source": [
    "result=pd.DataFrame(columns=['epoch','transformers','batch_size','gpu','training_loss','validation_loss','epoch_duration_sec'])"
   ]
  },
  {
   "cell_type": "code",
   "execution_count": 93,
   "id": "3bf4c3fb-97fb-4bdc-af93-366e8e18a9bd",
   "metadata": {},
   "outputs": [
    {
     "name": "stderr",
     "output_type": "stream",
     "text": [
      "Training epoch 1/3 Batch Size: 8,Transformer:distilgpt2: 100%|██████████| 40/40 [00:02<00:00, 13.58it/s, Training Loss=0.582]\n",
      "Validating epoch 1/3: 100%|██████████| 10/10 [00:00<00:00, 42.62it/s, Validation Loss=0.624]\n"
     ]
    },
    {
     "name": "stdout",
     "output_type": "stream",
     "text": [
      "Epoch: 1,Validation Loss: 0.6657261252403259\n"
     ]
    },
    {
     "name": "stderr",
     "output_type": "stream",
     "text": [
      "Training epoch 2/3 Batch Size: 8,Transformer:distilgpt2: 100%|██████████| 40/40 [00:02<00:00, 14.04it/s, Training Loss=0.479]\n",
      "Validating epoch 2/3: 100%|██████████| 10/10 [00:00<00:00, 44.21it/s, Validation Loss=0.55]\n"
     ]
    },
    {
     "name": "stdout",
     "output_type": "stream",
     "text": [
      "Epoch: 2,Validation Loss: 0.6262738704681396\n"
     ]
    },
    {
     "name": "stderr",
     "output_type": "stream",
     "text": [
      "Training epoch 3/3 Batch Size: 8,Transformer:distilgpt2: 100%|██████████| 40/40 [00:02<00:00, 14.03it/s, Training Loss=0.38] \n",
      "Validating epoch 3/3: 100%|██████████| 10/10 [00:00<00:00, 43.71it/s, Validation Loss=0.54]"
     ]
    },
    {
     "name": "stdout",
     "output_type": "stream",
     "text": [
      "Epoch: 3,Validation Loss: 0.6368380784988403\n"
     ]
    },
    {
     "name": "stderr",
     "output_type": "stream",
     "text": [
      "\n"
     ]
    }
   ],
   "source": [
    "for epoch in range(num_epochs):\n",
    "  start_time=time.time()\n",
    "  model.train()\n",
    "  epoch_training_loss=0\n",
    "  train_iterator=tqdm(train_loader,desc=f\"Training epoch {epoch+1}/{num_epochs} Batch Size: {batch_size},Transformer:{model_name}\")\n",
    "  for batch in train_iterator:\n",
    "    optimizer.zero_grad()\n",
    "    inputs=batch['input_ids'].squeeze(1).to(device)\n",
    "    targets=inputs.clone()\n",
    "    outputs=model(input_ids=inputs,labels=targets)\n",
    "    loss=outputs.loss\n",
    "    loss.backward()\n",
    "    optimizer.step()\n",
    "    train_iterator.set_postfix({'Training Loss':loss.item()})\n",
    "    epoch_training_loss += loss.item()\n",
    "  avg_epoch_training_loss=epoch_training_loss/len(train_iterator)\n",
    "\n",
    "  #validation\n",
    "  model.eval()\n",
    "  epoch_validation_loss=0\n",
    "  total_loss=0\n",
    "  valid_iterator=tqdm(val_loader,desc=f\"Validating epoch {epoch+1}/{num_epochs}\")\n",
    "  with torch.no_grad():\n",
    "    for batch in valid_iterator:\n",
    "      inputs=batch['input_ids'].squeeze(1).to(device)\n",
    "      targets=inputs.clone()\n",
    "      outputs=model(input_ids=inputs,labels=targets)\n",
    "      loss=outputs.loss\n",
    "      total_loss += loss\n",
    "      valid_iterator.set_postfix({'Validation Loss':loss.item()})\n",
    "      epoch_validation_loss += loss.item()\n",
    "  avg_epoch_validation_loss=epoch_validation_loss/len(valid_iterator)\n",
    "\n",
    "  end_time=time.time()\n",
    "  epoch_duration_sec=end_time - start_time\n",
    "\n",
    "  new_row={\n",
    "      'transformer':model_name,\n",
    "      'batch_size':batch_size,\n",
    "      'gpu':gpu,\n",
    "      'training_loss':avg_epoch_training_loss,\n",
    "      'validation_loss':avg_epoch_validation_loss,\n",
    "      'epoch_duration_sec':epoch_duration_sec\n",
    "  }\n",
    "\n",
    "  result.loc[len(result)]=new_row\n",
    "  print(f\"Epoch: {epoch+1},Validation Loss: {total_loss/len(val_loader)}\")"
   ]
  },
  {
   "cell_type": "code",
   "execution_count": 115,
   "id": "be27d25b-a96b-4a43-a353-3e337bafb65a",
   "metadata": {},
   "outputs": [],
   "source": [
    "input_str='Jaundice'"
   ]
  },
  {
   "cell_type": "code",
   "execution_count": 116,
   "id": "7caea3ba-2791-4a8f-be05-13325ef63340",
   "metadata": {},
   "outputs": [],
   "source": [
    "input_ids=tokenizer.encode(input_str,return_tensors='pt').to(device)"
   ]
  },
  {
   "cell_type": "code",
   "execution_count": 118,
   "id": "716f777a-29ab-438a-b1de-9939ddb0ceee",
   "metadata": {},
   "outputs": [
    {
     "data": {
      "text/plain": [
       "tensor([[   41, 14677,   501]], device='cuda:0')"
      ]
     },
     "execution_count": 118,
     "metadata": {},
     "output_type": "execute_result"
    }
   ],
   "source": [
    "input_ids"
   ]
  },
  {
   "cell_type": "code",
   "execution_count": 119,
   "id": "03b9ed20-9603-4c35-90c6-145c76f9cabe",
   "metadata": {},
   "outputs": [
    {
     "name": "stderr",
     "output_type": "stream",
     "text": [
      "The attention mask and the pad token id were not set. As a consequence, you may observe unexpected behavior. Please pass your input's `attention_mask` to obtain reliable results.\n",
      "Setting `pad_token_id` to `eos_token_id`:50256 for open-end generation.\n"
     ]
    }
   ],
   "source": [
    "output=model.generate(\n",
    "    input_ids,\n",
    "    max_length=20,\n",
    "    num_return_sequences=1,\n",
    "    do_sample=True,\n",
    "    top_k=8,\n",
    "    top_p=0.95,\n",
    "    temperature=0.5,\n",
    "    repetition_penalty=1.2\n",
    ")"
   ]
  },
  {
   "cell_type": "code",
   "execution_count": 120,
   "id": "39f4b94a-eb5a-43bd-bc37-d7430579e29d",
   "metadata": {},
   "outputs": [
    {
     "data": {
      "text/plain": [
       "tensor([[   41, 14677,   501,   930,  2297,  1108,    11, 48140,    11,  2266,\n",
       "          1108,    11, 48140, 50256]], device='cuda:0')"
      ]
     },
     "execution_count": 120,
     "metadata": {},
     "output_type": "execute_result"
    }
   ],
   "source": [
    "output"
   ]
  },
  {
   "cell_type": "code",
   "execution_count": 121,
   "id": "5abd737c-80ed-483e-aaca-f8d5c98128ea",
   "metadata": {},
   "outputs": [],
   "source": [
    "decode_output=tokenizer.decode(output[0],skip_special_tokens=True)"
   ]
  },
  {
   "cell_type": "code",
   "execution_count": 122,
   "id": "c7a3c558-041f-48c7-b5ea-0c6c94ffb6d1",
   "metadata": {},
   "outputs": [
    {
     "data": {
      "text/plain": [
       "'Jaundice | Redness, itching, redness, itching'"
      ]
     },
     "execution_count": 122,
     "metadata": {},
     "output_type": "execute_result"
    }
   ],
   "source": [
    "decode_output"
   ]
  },
  {
   "cell_type": "code",
   "execution_count": 123,
   "id": "4b70f88d-f03c-41bb-8eed-fbfcec31e9c9",
   "metadata": {},
   "outputs": [],
   "source": [
    "torch.save(model,'SmallDiseaseLM.pt')"
   ]
  },
  {
   "cell_type": "code",
   "execution_count": null,
   "id": "3256471b-552b-4b90-ba89-e66e4b77ebd7",
   "metadata": {},
   "outputs": [],
   "source": []
  }
 ],
 "metadata": {
  "kernelspec": {
   "display_name": "Python 3 (ipykernel)",
   "language": "python",
   "name": "python3"
  },
  "language_info": {
   "codemirror_mode": {
    "name": "ipython",
    "version": 3
   },
   "file_extension": ".py",
   "mimetype": "text/x-python",
   "name": "python",
   "nbconvert_exporter": "python",
   "pygments_lexer": "ipython3",
   "version": "3.10.12"
  }
 },
 "nbformat": 4,
 "nbformat_minor": 5
}
